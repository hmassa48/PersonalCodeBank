{
 "cells": [
  {
   "cell_type": "markdown",
   "metadata": {},
   "source": [
    "# Starter Notebook for Reading In Different File Formats\n",
    "\n",
    "Starter notebook for reading in and writing information. Update as different projects come up"
   ]
  },
  {
   "cell_type": "markdown",
   "metadata": {},
   "source": [
    "## 1. CSV Files"
   ]
  },
  {
   "cell_type": "code",
   "execution_count": null,
   "metadata": {},
   "outputs": [],
   "source": [
    "# Read in Basic CSV File\n",
    "\n",
    "data = pd.read_csv('filename')"
   ]
  },
  {
   "cell_type": "code",
   "execution_count": null,
   "metadata": {},
   "outputs": [],
   "source": [
    "# Different delimiters example tab\n",
    "data = pd.read_csv(filepath, sep = '\\t')\n",
    "\n",
    "# Different delimiters - space seperated \n",
    "data = pd.read_csv(filepath, delim_whitespace = True)\n",
    "\n",
    "# Don't want to use the first row as column names\n",
    "data = pd.read_csv(filepath, header = None)\n",
    "\n",
    "# Custom Column Names\n",
    "data = pd.read_csv(filepath, names = ['Names1','Names2'])\n",
    "\n",
    "# Custom Missing Values - make 'NA' or 99 NaN\n",
    "data = pd.read_csv(filepath, na_values = ['NA',99])"
   ]
  },
  {
   "cell_type": "markdown",
   "metadata": {},
   "source": [
    "## 2. JSON Files"
   ]
  },
  {
   "cell_type": "code",
   "execution_count": null,
   "metadata": {},
   "outputs": [],
   "source": [
    "# Read a JSON File like a dataframe\n",
    "data = pd.read_JSON(filepath)\n",
    "\n",
    "# Write to a JSON\n",
    "data.to_json('name.json')"
   ]
  },
  {
   "cell_type": "markdown",
   "metadata": {},
   "source": [
    "## 3. SQL Databases"
   ]
  },
  {
   "cell_type": "code",
   "execution_count": null,
   "metadata": {},
   "outputs": [],
   "source": [
    "## Using SQlite3 \n",
    "\n",
    "import sqlite3 as sq3\n",
    "import pandas as pd\n",
    "\n",
    "# Initialize path to SQLite Database\n",
    "path = 'data/database.db'\n",
    "\n",
    "# Create a connection with the database\n",
    "con = sq3.Connection(path)\n",
    "\n",
    "# Write a query\n",
    "query = '''SELECT * FROM data_source'''\n",
    "\n",
    "# Execute query\n",
    "data = pd.read_sql(query,con)"
   ]
  },
  {
   "cell_type": "markdown",
   "metadata": {},
   "source": [
    "## 4. NoSQL Data"
   ]
  },
  {
   "cell_type": "code",
   "execution_count": null,
   "metadata": {},
   "outputs": [],
   "source": [
    "## Using MongoDB\n",
    "# Make sure mongo is running\n",
    "\n",
    "# imports\n",
    "from pymongo import MongoClient\n",
    "\n",
    "# Create a connection\n",
    "con = MongoClient()\n",
    "\n",
    "# Choose database\n",
    "# con.list.database_names() will display available databases\n",
    "db = con.database_name\n",
    "\n",
    "# Create a cursor object\n",
    "cursor = db.collection_name.find(query)\n",
    "\n",
    "# Expand cursor and construct dataframe\n",
    "df = pd.DataFrame(list(cursor))"
   ]
  }
 ],
 "metadata": {
  "kernelspec": {
   "display_name": "Python 3",
   "language": "python",
   "name": "python3"
  },
  "language_info": {
   "codemirror_mode": {
    "name": "ipython",
    "version": 3
   },
   "file_extension": ".py",
   "mimetype": "text/x-python",
   "name": "python",
   "nbconvert_exporter": "python",
   "pygments_lexer": "ipython3",
   "version": "3.7.6"
  }
 },
 "nbformat": 4,
 "nbformat_minor": 4
}
