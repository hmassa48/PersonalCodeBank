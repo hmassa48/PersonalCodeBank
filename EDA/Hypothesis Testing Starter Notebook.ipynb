{
 "cells": [
  {
   "cell_type": "markdown",
   "metadata": {},
   "source": [
    "# Introduction to Hypothesis Testing \n",
    "\n",
    "This is a starter notebook where I will add more information and code as I do more projects. This notebook focuses on the impact of statistical inference and hypothesis testing. "
   ]
  },
  {
   "cell_type": "markdown",
   "metadata": {},
   "source": [
    "<h1 id=\"tocheading\">Table of Contents</h1>\n",
    "<div id=\"toc\"></div>"
   ]
  },
  {
   "cell_type": "code",
   "execution_count": 3,
   "metadata": {},
   "outputs": [
    {
     "data": {
      "application/javascript": [
       "$.getScript('https://kmahelona.github.io/ipython_notebook_goodies/ipython_notebook_toc.js')\n"
      ],
      "text/plain": [
       "<IPython.core.display.Javascript object>"
      ]
     },
     "metadata": {},
     "output_type": "display_data"
    }
   ],
   "source": [
    "%%javascript\n",
    "$.getScript('https://kmahelona.github.io/ipython_notebook_goodies/ipython_notebook_toc.js')"
   ]
  },
  {
   "cell_type": "markdown",
   "metadata": {},
   "source": [
    "# Definitions\n",
    "\n",
    "#### Hypothesis - statement about a population parameter\n",
    "\n",
    "We want to create two hypotheses:\n",
    "* Null Hypothesis (H0)\n",
    "\n",
    "* Alternative Hypothesis (H1 or HA)\n",
    "\n",
    "Hypothesis testing procedures give us a rule to decide\n",
    "\n",
    "1) Accept H0\n",
    "\n",
    "2) Reject H0 (it is impossible to accept H1, but in a business setting it is almost as if you accept)\n",
    "\n",
    "\n",
    "When deciding what to put as the null and alternative, as a general rule the null hypothesis is no effect and the alternative hypothesis is the one that would provide an impact\n",
    "\n",
    "\n",
    "#### Type 1 Vs Type 2 Errors\n",
    "\n",
    "* Type 1 - incorrectly reject H0\n",
    "\n",
    "* Type 2 - incorrectly accept H0 \n",
    "\n",
    "Power of a Test = 1 - P(Type 2 Error) \n",
    "\n",
    "More Definitions: \n",
    "\n",
    "Test Statistic - often a likelihood ratio, used to decide whether or not to accept or reject H0\n",
    "\n",
    "Rejection Region - set of values that lead to rejectioon\n",
    "\n",
    "Acceptance Region - set of values that lead to accept H0\n",
    "\n",
    "Null Distribution - distribution assuming null is true\n",
    "\n"
   ]
  },
  {
   "cell_type": "markdown",
   "metadata": {},
   "source": [
    "## A look into the Bayesian Approach to Hypothesis Testing \n",
    "\n",
    "In Bayesian statistics, we are allowed to use prior information in our prediction. For example, the coin toss example. We are allowed to use the prior knowledge not only about how fair the coin is, but also what is the probability that we would select that coin. \n",
    "\n",
    " $$\\frac{P(H1|X )}{P(H2|X)}  =  \\frac{P(H1)P(X|H1)}{P(H2)P(X|H2)}$$"
   ]
  },
  {
   "cell_type": "markdown",
   "metadata": {},
   "source": [
    "# Evaluating Hypothesis Tests \n",
    "\n",
    "## Definitions: \n",
    "\n",
    "* Significance Level - probability threshold below which the null hypothesis will be rejected (lower significance level is only reject if very certain)\n",
    "* p-hacking - changing the p-value after running tests for a better result \n",
    "* p-value - smallest significance level at which null hypothesis would be rejected \n",
    "* confidence interval - values of statistic for which we accept the null \n",
    "* F-statistic - data can be modeled by setting all betas to 0 \n"
   ]
  },
  {
   "cell_type": "code",
   "execution_count": null,
   "metadata": {},
   "outputs": [],
   "source": []
  }
 ],
 "metadata": {
  "kernelspec": {
   "display_name": "Python 3",
   "language": "python",
   "name": "python3"
  },
  "language_info": {
   "codemirror_mode": {
    "name": "ipython",
    "version": 3
   },
   "file_extension": ".py",
   "mimetype": "text/x-python",
   "name": "python",
   "nbconvert_exporter": "python",
   "pygments_lexer": "ipython3",
   "version": "3.7.6"
  }
 },
 "nbformat": 4,
 "nbformat_minor": 4
}
